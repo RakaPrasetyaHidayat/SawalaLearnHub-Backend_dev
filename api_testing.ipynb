{
 "cells": [
  {
   "cell_type": "markdown",
   "id": "5dd1a12a",
   "metadata": {},
   "source": [
    "# LearnHub API Testing Notebook\n",
    "\n",
    "This notebook is used to test and document the LearnHub API endpoints.\n",
    "\n",
    "## Setup\n",
    "First, let's import the required libraries and set up our base URL."
   ]
  },
  {
   "cell_type": "code",
   "execution_count": null,
   "id": "fa894943",
   "metadata": {},
   "outputs": [],
   "source": [
    "import requests\n",
    "import json\n",
    "from datetime import datetime\n",
    "\n",
    "# Base URL for our API\n",
    "BASE_URL = \"https://learnhub-be-8aj172hbb-rakaprasetyahidayats-projects.vercel.app\"\n",
    "\n",
    "def pretty_print_json(data):\n",
    "    print(json.dumps(data, indent=2))"
   ]
  },
  {
   "cell_type": "markdown",
   "id": "a601492e",
   "metadata": {},
   "source": [
    "## Testing Root Endpoint\n",
    "Let's test the root endpoint that provides API information"
   ]
  },
  {
   "cell_type": "code",
   "execution_count": null,
   "id": "343f9006",
   "metadata": {},
   "outputs": [],
   "source": [
    "# Test root endpoint\n",
    "response = requests.get(f\"{BASE_URL}/\")\n",
    "pretty_print_json(response.json())"
   ]
  },
  {
   "cell_type": "markdown",
   "id": "c3c0b96b",
   "metadata": {},
   "source": [
    "## Testing Health Check Endpoint\n",
    "Now let's check the health endpoint"
   ]
  },
  {
   "cell_type": "code",
   "execution_count": null,
   "id": "e1019580",
   "metadata": {},
   "outputs": [],
   "source": [
    "# Test health endpoint\n",
    "response = requests.get(f\"{BASE_URL}/api/health\")\n",
    "pretty_print_json(response.json())"
   ]
  },
  {
   "cell_type": "markdown",
   "id": "452062ad",
   "metadata": {},
   "source": [
    "## Testing Statistics Endpoint\n",
    "Let's check the statistics endpoint"
   ]
  },
  {
   "cell_type": "code",
   "execution_count": null,
   "id": "cf35e0de",
   "metadata": {},
   "outputs": [],
   "source": [
    "# Test stats endpoint\n",
    "response = requests.get(f\"{BASE_URL}/api/stats\")\n",
    "pretty_print_json(response.json())"
   ]
  }
 ],
 "metadata": {
  "language_info": {
   "name": "python"
  }
 },
 "nbformat": 4,
 "nbformat_minor": 5
}
